{
 "cells": [
  {
   "cell_type": "markdown",
   "id": "communist-underwear",
   "metadata": {},
   "source": [
    "# Machine learning does not magically solve your problems\n",
    "*How machine learning allows us to overcome impossible challenges, but still takes a lot of time and money*\n",
    "\n",
    "# Introduction\n",
    "\"*I thought AlphaGo was based on probabilty calculations, and it was merely a machine. But when I saw this move, I changed my mind. Surely AlphaGo is creative. The move was really creative and beatiful*\" ([Alpha Go documentary](https://www.youtube.com/watch?v=WXuK6gekU1Y), 52:10-52:40). In this quote Lee Sedol, the greatest player to ever touch the game of Go, reacted to the infamous move 37 in one of his games against the reinforcement learning agent AlphaGo. This highlights the kind of magical aura that surrounds machine learning and especially deep learning. One of the developers of AlphaGo later comments (56:30) that Alpha Go is \"*really a simple program and nowhere near full AI*\". This magical thinking from non-experts contrasted with a far more realistic view by practitioners present a real challenge in generating support for the massive investment that is required for machine learning projects. \n",
    "\n",
    "In this article I want to peel away some of the obfuscating layers that cover machine learning. My goal is to provide a more balanced view at what exactly makes machine learning special, but also why it is still a lot of work. Hopefully you can use some of these ideas next time you have a discussion on why your machine learning project takes so long. \n",
    "\n",
    "# Creating the machine to solve the problem\n",
    "In my experience, machine learning projects look alot like any other data science project. I personally see the following steps to successfully run a data science project:\n",
    "\n",
    "- Assess the needs of the business. Depending on the size of the project this involves taking to a one or maybe a large group of people. \n",
    "- Read our data. This can be from a csv file, a SQL database or a Hadoop cluster. \n",
    "- Process and understand our data. What does each column mean? What is the quality of the data? Is there missing data?\n",
    "- Create a set of features as input for our model. This can be done manually, or by using some kind of feature engineering suite. \n",
    "- Fit the model. For the simpler model this simply involves running a Python function, but more advanced techniques often have hyperparameters that can be tweaked to increase performance. \n",
    "- Assess if our performance is satisfactory, and if not, go back to any of our previous steps\n",
    "- Bring the model into production\n",
    "\n",
    "The following three flow charts presents these steps for three possible models: multiple linear regression, a combination of [TSfresh](https://tsfresh.readthedocs.io/en/latest/) and Lasso ([example](https://towardsdatascience.com/expanding-your-regression-repertoire-with-regularisation-903d2c9f7b28)), and finally a neural network:\n",
    "\n",
    "![ds_workflows](ds_workflows.png)\n",
    "\n",
    "The main point of these flowcharts is how much they look alike from simple linear regression up to neural networks. In going from linear regression to [TSfresh](https://tsfresh.readthedocs.io/en/latest/)/Lasso we keep most of the steps intact, we just let TSfresh help us out generating features. In addition, Lasso provides us with a good way to select which of those features are relevant for our model. We automate some steps, but also add work by having to tune the regularisation strength. TSfresh/Lasso is an approach that works in *a specific situation* and that is not necessarily a *quick* nor *automated* procedure. \n",
    "\n",
    "Looking at the neural network approach we see that some of the manual tasks are absorbed into the neural network. Specifically, feature engineering and selection are done internally by the neural network. On the flipside, we have to determine the network architecture (number of layers, interconnectedness, loss function, etc) and tune the hyperparamers of the network. In addition, many other tasks such as assessing the business problem still need to be done. As with TSfresh/Lasso, the neural network is an approach that works well in a specific situation, and is not a quick nor automated procedure.  \n",
    "\n",
    "A good way to frame to change from regression to the neural netwok is that instead of solving the problem manually, **we build a machine that solves the problem for us**. Adding this layer of abstraction allows us to solve problems we never thought we could solve, but that still take alot of time and money to create. \n",
    "\n",
    "# Beating humans using the machine\n",
    "To expand on the concept of building a machine to solve the problem for us I want are more close look at AlphaGo. One approach to learn Go is to build a so called [expert system](https://en.wikipedia.org/wiki/Expert_system). We take the best Go players in the world and let them define business rules that tell us how to determine the next move we should make given the state on the board. However, the problem is that much of the playing in Go cannot be accurately caught in rules, where players often play based on their intuition. \n",
    "\n",
    "Alternatively, Alpha Go solved this problem not by manually defining the player rules, but by learning them by playing the game a lot. The approach they used is called reinforcement learning, more specifically [Deep Reinforcement learning](https://en.wikipedia.org/wiki/Deep_reinforcement_learning). The core of the approach is to train a deep neural network to take the state of the board and predict the next best move. Training the neural network is done by playing the game a lot, and providing the network with either rewards or penalties based on its performance. Letting the computer play against itself for millions of games allows the network to slowly become smarter and smarter. This approach was wildy successfull, allowing Alpha Go to beat the best Go player of all time. If you want to go into more detail, I highly recommend going to [the Deepmind website](https://deepmind.com/research/case-studies/alphago-the-story-so-far). \n",
    "\n",
    "Building Alpha Go was by no means a small feat, requiring the brightest minds in machine learning spending years of their lives to solve this problem. Once they built the Deep Reinforcement Learning machine, the machine itself could learn the game of Go. But building this machine was still a massive undertaking.\n",
    "\n",
    "# No silver bullet\n",
    "Machine learning has some magical and awe inspiring applications, extending the range of applications we thought possible to be solved using a computer. However, the awesome potential of machine learning does not mean that it automatically solves our challenges. "
   ]
  }
 ],
 "metadata": {
  "kernelspec": {
   "display_name": "Python 3",
   "language": "python",
   "name": "python3"
  },
  "language_info": {
   "codemirror_mode": {
    "name": "ipython",
    "version": 3
   },
   "file_extension": ".py",
   "mimetype": "text/x-python",
   "name": "python",
   "nbconvert_exporter": "python",
   "pygments_lexer": "ipython3",
   "version": "3.8.5"
  }
 },
 "nbformat": 4,
 "nbformat_minor": 5
}
