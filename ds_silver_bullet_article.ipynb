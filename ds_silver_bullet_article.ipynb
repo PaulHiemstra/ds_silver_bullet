{
 "cells": [
  {
   "cell_type": "markdown",
   "id": "capable-fifty",
   "metadata": {},
   "source": [
    "# Machine learning does not magically solve your problem and costs a lot of money\n",
    "*How machine learning allows us to overcome impossible challenges, but is no silver bullet*\n",
    "\n",
    "# Introduction\n",
    "\"*I thought AlphaGo was based on probabilty calculation, and it was merely a machine. But when I saw this move, I changed my mind. Surely AlphaGo is creative. The move was really creative and beatiful*\" ([Alpha Go documentary](https://www.youtube.com/watch?v=WXuK6gekU1Y), 52:10-52:40). In this quote Lee Sedol, the best human to ever touch the game of Go, reacts to the infamous move 37 in one of his games against the reinforcement learning agent Alpha Go. One the developers of Alpha Go later comments (56:30) that Alpha Go is \"*really a simple program and nowhere near full AI*\". Apart from it being a beatiful story (you should watch the documentary), it also highlights the kind of magical aura that surrounds machine learning and especially deep learning. The AI will solve our problems, simply feed it data. \n",
    "\n",
    "This kind of magical thinking surrounding machine learning is sadly not true. Granted, new deep learning techniques can solve problems we previously thought unsolvable. However, building these deep learning networks and tweaking them for a specific application is still a massive amount of work. \n",
    "\n",
    "In this article I want to peel away some of the obfuscating layers that cover machine learning. My goal is to provide a more balanced view at what exactly makes machine learning special, but also why it is still a lot of work to create a solution that adds value using it. \n",
    "\n",
    "# Creating the machine to solve the problem\n",
    "To succesfully run a data science project, there are a number of steps we commonly take. I do not want to provide an exhaustive framework for running a data science project, but for this article I see the following steps:\n",
    "\n",
    "- Asses the needs of the business. \n",
    "- Read our data. This can be from a csv file, a SQL database or a Hadoop cluster. \n",
    "- Process and understand our data. What does each column mean? What is the quality of the data? Is there missing data?\n",
    "- Create a set of features as input for our model. This can be done manually, or by using some kind of feature engineering suite. \n",
    "- Fit the model. For the simpler model this simply involves running a function, but more advanced techniques often have hyperparameters that can be tweaked to increase performance. \n",
    "- Asses if our performance is satisfactory, and if not, go back to any of our previous steps\n",
    "\n",
    "The following three flow charts show how these steps work out for three possible models: multiple linear regression, a combination of TSfresh and Lasso, and finally a neural network:\n",
    "\n",
    "![ds_workflows](ds_workflows.png)\n",
    "\n",
    "In going from linear regression to TSfresh/Lasso we keep most of the steps intact, we just let TSfresh help us out generating features. In addition, Lasso provides us with a good way to select which of those features are relevant for our model. Using TSfresh/Lasso only makes sense given a particular situation:\n",
    "\n",
    "- Our input data has a timeseries structure which TSfresh can use to generate features.\n",
    "- The number of features we end up with is large, and they are strongly correlated. \n",
    "\n",
    "So, TSfresh/Lasso is an approach that works in *a specific situation* and that is not necessarily a *quick* and *automated* procedure. \n",
    "\n",
    "Looking at the neural network approach we see that some of the manual tasks are absorbed into the neural network. Specifically, feature engineering and selection are done internally by the neural network. However, we have determine the network architecture (number of layers, interconnectedness, loss function, etc) and tune the hyperparamers of the network. In addition, many other tasks such as assessing the business problem still need to be done. As with TSfresh/Lasso, the neural network is an approach that works well in a specific situation, and is not a quick nor automated procedure. \n",
    "\n",
    "An important observation in going from linear regression to the neural network is that in stead of solving the problem manually, **we build a machine that solves the problem for us**. \n",
    "\n",
    "# Beating humans using the machine\n",
    "If we want to learn the computer to play the game of Go, we could build a so called [expert system](https://en.wikipedia.org/wiki/Expert_system). We take the best Go players in the world a let them define business rules that tells us how to determine the next move we should make given the state on the board. The problem however is that much of the playing in Go cannot be accurately caught in rules, where players often play based on their intuition. \n",
    "\n",
    "Alternatively, Alpha Go solved this problem not by manually defining the play rules, but by learning from playing the game a lot. The approach they used is called reinforcement learning, more specifically they used [Deep Reinforcement learning](https://en.wikipedia.org/wiki/Deep_reinforcement_learning). The core of the approach is to train a deep neural network to take the state of the board and predict the next best move. Training the neural network is done by playing the game a lot, and providing the network with either rewards or penalties based on its performance. Letting the computer play against itself for millions of games allows the network to become smarter and smarter. This approach was wildy succesfull, allowing Alpha Go to beat the best Go player of all time. \n",
    "\n",
    "Building Alpha Go was by no means a small feat, requiring the brightest minds in machine learning spending years of their lives to solve this problem. Once they built the machine, the machine itself could learn the game of Go. But building this machine was still a massive undertaking.\n",
    "\n",
    "# No silver bullet\n",
    "Machine learning has some magical and awe inspiring applications, extending the range of applications we thought possible to be solved using a computer. However, the awesome potential of machine learning does not mean that it automatically works as some kind of silver bullet. Building the machine that solves the problem for us still takes a massive amount of expertise and effort. "
   ]
  }
 ],
 "metadata": {
  "kernelspec": {
   "display_name": "Python 3",
   "language": "python",
   "name": "python3"
  },
  "language_info": {
   "codemirror_mode": {
    "name": "ipython",
    "version": 3
   },
   "file_extension": ".py",
   "mimetype": "text/x-python",
   "name": "python",
   "nbconvert_exporter": "python",
   "pygments_lexer": "ipython3",
   "version": "3.8.5"
  }
 },
 "nbformat": 4,
 "nbformat_minor": 5
}
